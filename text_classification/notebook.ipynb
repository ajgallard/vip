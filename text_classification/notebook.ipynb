{
 "cells": [
  {
   "cell_type": "markdown",
   "metadata": {},
   "source": [
    "# Working with Text Inputs for Classification\n",
    "> Data Sources: \n",
    " * [IMDB](https://www.kaggle.com/datasets/lakshmi25npathi/imdb-dataset-of-50k-movie-reviews)"
   ]
  },
  {
   "cell_type": "code",
   "execution_count": 36,
   "metadata": {},
   "outputs": [],
   "source": [
    "from processing.text_cleaning import load_engine, func_examples\n",
    "from processing.text_to_numbers import linguistic_features\n",
    "from sklearn.model_selection import train_test_split\n",
    "from datasets import Dataset\n",
    "import pandas as pd\n",
    "import wordninja\n",
    "import re"
   ]
  },
  {
   "cell_type": "code",
   "execution_count": 37,
   "metadata": {},
   "outputs": [
    {
     "name": "stdout",
     "output_type": "stream",
     "text": [
      "Current Device: cuda\n"
     ]
    }
   ],
   "source": [
    "import torch\n",
    "device = \"cuda\" if torch.cuda.is_available() else 'cpu'\n",
    "print(f\"Current Device: {device}\")"
   ]
  },
  {
   "cell_type": "markdown",
   "metadata": {},
   "source": [
    "## Text Cleaning\n",
    "> Use [Regex101](https://regex101.com/) to test out your regex patterns!"
   ]
  },
  {
   "cell_type": "code",
   "execution_count": 35,
   "metadata": {},
   "outputs": [],
   "source": [
    "import re\n",
    "\n",
    "# regex\n",
    "examples = dict(\n",
    "    digits=\"(404)894-2000\",\n",
    "    groups=\"George Burdell, born on 1990-05-15, is a Data Scientist.\",\n",
    ")"
   ]
  },
  {
   "cell_type": "code",
   "execution_count": 10,
   "metadata": {},
   "outputs": [
    {
     "name": "stdout",
     "output_type": "stream",
     "text": [
      "Area Code: 404\n"
     ]
    }
   ],
   "source": [
    "# digits\n",
    "pattern = re.compile(r\"\\((\\d{3})\\)(\\d{3})-(\\d{4})\")\n",
    "search = re.compile(pattern)\n",
    "match = search.search(examples['digits'])\n",
    "area_code = match.group(1)\n",
    "print(f'Area Code: {area_code}')"
   ]
  },
  {
   "cell_type": "code",
   "execution_count": null,
   "metadata": {},
   "outputs": [
    {
     "name": "stdout",
     "output_type": "stream",
     "text": [
      "Area Code: 404\n"
     ]
    }
   ],
   "source": [
    "# digits with group name\n",
    "pattern_with_names = re.compile(r\"\\((?P<area_code>\\d{3})\\)(?P<prefix>\\d{3})-(?P<line_number>\\d{4})\")\n",
    "search = re.compile(pattern_with_names)\n",
    "match = search.search(examples['digits'])\n",
    "area_code = match.group('area_code')\n",
    "print(f'Area Code: {area_code}')"
   ]
  },
  {
   "cell_type": "code",
   "execution_count": 12,
   "metadata": {},
   "outputs": [
    {
     "name": "stdout",
     "output_type": "stream",
     "text": [
      "Full Name: George Burdell\n",
      "Date of Birth: 05/15/1990\n",
      "Career: Data Scientist\n"
     ]
    }
   ],
   "source": [
    "pattern = r\"(?P<first_name>\\w+)\\s(?P<last_name>\\w+).*(?P<birth_year>\\d{4})-(?P<birth_month>\\d{2})-(?P<birth_day>\\d{2}),\\sis\\sa\\s(?P<career>.*)\\.\"\n",
    "search = re.compile(pattern)\n",
    "match = search.search(examples['groups'])\n",
    "print(f\"Full Name: {match.group('first_name')} {match.group('last_name')}\")\n",
    "print(f\"Date of Birth: {match.group('birth_month')}/{match.group('birth_day')}/{match.group('birth_year')}\")\n",
    "print(f\"Career: {match.group('career')}\")"
   ]
  },
  {
   "cell_type": "markdown",
   "metadata": {},
   "source": [
    "> [WordNinja](https://github.com/keredson/wordninja) helps you separate conjoined words!"
   ]
  },
  {
   "cell_type": "code",
   "execution_count": 13,
   "metadata": {},
   "outputs": [
    {
     "name": "stdout",
     "output_type": "stream",
     "text": [
      ">> Examples\n",
      "1) Before: buzzbasketball\n",
      "   After: buzz basketball\n",
      "2) Before: rockguitar\n",
      "   After: rock guitar\n",
      "3) Before: coffeecup\n",
      "   After: coffee cup\n",
      "4) Before: loudmicrophone\n",
      "   After: loud microphone\n"
     ]
    }
   ],
   "source": [
    "# wordninja\n",
    "nlp_engine = load_engine() # Load Spacy Engine\n",
    "\n",
    "def fix_conjoined_word(text, threshold:int=6, nlp_engine=nlp_engine):\n",
    "    doc = nlp_engine(text) # Convert String to Tokens\n",
    "    new_tokens = []\n",
    "    for token in doc:\n",
    "        token = str(token)\n",
    "        if len(str(token)) > threshold: # Check only if word seems lengthy\n",
    "            ninjas = wordninja.split(token)  # fix word spacing errors using module\n",
    "            for ninja in ninjas:\n",
    "                new_tokens.append(ninja)\n",
    "        else:\n",
    "            new_tokens.append(token)\n",
    "    new_string = \" \".join(new_tokens)\n",
    "    return new_string\n",
    "\n",
    "\n",
    "# Examples\n",
    "examples = [\"buzzbasketball\", \"rockguitar\", \"coffeecup\", \"loudmicrophone\"]\n",
    "func_examples(fix_conjoined_word, examples)"
   ]
  },
  {
   "cell_type": "markdown",
   "metadata": {},
   "source": [
    "> Import IMDB Dataset"
   ]
  },
  {
   "cell_type": "markdown",
   "metadata": {},
   "source": [
    "## Spacy"
   ]
  },
  {
   "cell_type": "code",
   "execution_count": 14,
   "metadata": {},
   "outputs": [
    {
     "data": {
      "text/html": [
       "<div>\n",
       "<style scoped>\n",
       "    .dataframe tbody tr th:only-of-type {\n",
       "        vertical-align: middle;\n",
       "    }\n",
       "\n",
       "    .dataframe tbody tr th {\n",
       "        vertical-align: top;\n",
       "    }\n",
       "\n",
       "    .dataframe thead th {\n",
       "        text-align: right;\n",
       "    }\n",
       "</style>\n",
       "<table border=\"1\" class=\"dataframe\">\n",
       "  <thead>\n",
       "    <tr style=\"text-align: right;\">\n",
       "      <th></th>\n",
       "      <th>review</th>\n",
       "      <th>sentiment_positive</th>\n",
       "    </tr>\n",
       "  </thead>\n",
       "  <tbody>\n",
       "    <tr>\n",
       "      <th>0</th>\n",
       "      <td>One of the other reviewers has mentioned that ...</td>\n",
       "      <td>True</td>\n",
       "    </tr>\n",
       "    <tr>\n",
       "      <th>1</th>\n",
       "      <td>A wonderful little production. &lt;br /&gt;&lt;br /&gt;The...</td>\n",
       "      <td>True</td>\n",
       "    </tr>\n",
       "    <tr>\n",
       "      <th>2</th>\n",
       "      <td>I thought this was a wonderful way to spend ti...</td>\n",
       "      <td>True</td>\n",
       "    </tr>\n",
       "    <tr>\n",
       "      <th>3</th>\n",
       "      <td>Basically there's a family where a little boy ...</td>\n",
       "      <td>False</td>\n",
       "    </tr>\n",
       "    <tr>\n",
       "      <th>4</th>\n",
       "      <td>Petter Mattei's \"Love in the Time of Money\" is...</td>\n",
       "      <td>True</td>\n",
       "    </tr>\n",
       "  </tbody>\n",
       "</table>\n",
       "</div>"
      ],
      "text/plain": [
       "                                              review  sentiment_positive\n",
       "0  One of the other reviewers has mentioned that ...                True\n",
       "1  A wonderful little production. <br /><br />The...                True\n",
       "2  I thought this was a wonderful way to spend ti...                True\n",
       "3  Basically there's a family where a little boy ...               False\n",
       "4  Petter Mattei's \"Love in the Time of Money\" is...                True"
      ]
     },
     "execution_count": 14,
     "metadata": {},
     "output_type": "execute_result"
    }
   ],
   "source": [
    "imdb = pd.read_csv(\"data/IMDB Dataset.csv\", nrows=500,)\n",
    "imdb = pd.get_dummies(imdb, columns=['sentiment'],drop_first=True)\n",
    "imdb.head()"
   ]
  },
  {
   "cell_type": "code",
   "execution_count": 15,
   "metadata": {},
   "outputs": [
    {
     "data": {
      "text/html": [
       "<div>\n",
       "<style scoped>\n",
       "    .dataframe tbody tr th:only-of-type {\n",
       "        vertical-align: middle;\n",
       "    }\n",
       "\n",
       "    .dataframe tbody tr th {\n",
       "        vertical-align: top;\n",
       "    }\n",
       "\n",
       "    .dataframe thead th {\n",
       "        text-align: right;\n",
       "    }\n",
       "</style>\n",
       "<table border=\"1\" class=\"dataframe\">\n",
       "  <thead>\n",
       "    <tr style=\"text-align: right;\">\n",
       "      <th></th>\n",
       "      <th>sentiment_positive</th>\n",
       "      <th>ADJ</th>\n",
       "      <th>ADP</th>\n",
       "      <th>PUNCT</th>\n",
       "      <th>ADV</th>\n",
       "      <th>AUX</th>\n",
       "      <th>SYM</th>\n",
       "      <th>INTJ</th>\n",
       "      <th>CCONJ</th>\n",
       "      <th>X</th>\n",
       "      <th>...</th>\n",
       "      <th>pobj</th>\n",
       "      <th>poss</th>\n",
       "      <th>preconj</th>\n",
       "      <th>predet</th>\n",
       "      <th>prep</th>\n",
       "      <th>prt</th>\n",
       "      <th>punct</th>\n",
       "      <th>quantmod</th>\n",
       "      <th>relcl</th>\n",
       "      <th>xcomp</th>\n",
       "    </tr>\n",
       "  </thead>\n",
       "  <tbody>\n",
       "    <tr>\n",
       "      <th>0</th>\n",
       "      <td>True</td>\n",
       "      <td>32</td>\n",
       "      <td>37</td>\n",
       "      <td>44</td>\n",
       "      <td>11</td>\n",
       "      <td>27</td>\n",
       "      <td>0</td>\n",
       "      <td>0</td>\n",
       "      <td>12</td>\n",
       "      <td>0</td>\n",
       "      <td>...</td>\n",
       "      <td>31</td>\n",
       "      <td>3</td>\n",
       "      <td>0</td>\n",
       "      <td>1</td>\n",
       "      <td>32</td>\n",
       "      <td>3</td>\n",
       "      <td>45</td>\n",
       "      <td>0</td>\n",
       "      <td>5</td>\n",
       "      <td>1</td>\n",
       "    </tr>\n",
       "    <tr>\n",
       "      <th>1</th>\n",
       "      <td>True</td>\n",
       "      <td>14</td>\n",
       "      <td>15</td>\n",
       "      <td>24</td>\n",
       "      <td>18</td>\n",
       "      <td>7</td>\n",
       "      <td>0</td>\n",
       "      <td>0</td>\n",
       "      <td>9</td>\n",
       "      <td>7</td>\n",
       "      <td>...</td>\n",
       "      <td>14</td>\n",
       "      <td>6</td>\n",
       "      <td>2</td>\n",
       "      <td>2</td>\n",
       "      <td>14</td>\n",
       "      <td>0</td>\n",
       "      <td>26</td>\n",
       "      <td>0</td>\n",
       "      <td>1</td>\n",
       "      <td>0</td>\n",
       "    </tr>\n",
       "    <tr>\n",
       "      <th>2</th>\n",
       "      <td>True</td>\n",
       "      <td>18</td>\n",
       "      <td>17</td>\n",
       "      <td>25</td>\n",
       "      <td>7</td>\n",
       "      <td>17</td>\n",
       "      <td>0</td>\n",
       "      <td>0</td>\n",
       "      <td>7</td>\n",
       "      <td>0</td>\n",
       "      <td>...</td>\n",
       "      <td>16</td>\n",
       "      <td>3</td>\n",
       "      <td>0</td>\n",
       "      <td>0</td>\n",
       "      <td>16</td>\n",
       "      <td>1</td>\n",
       "      <td>25</td>\n",
       "      <td>0</td>\n",
       "      <td>3</td>\n",
       "      <td>1</td>\n",
       "    </tr>\n",
       "    <tr>\n",
       "      <th>3</th>\n",
       "      <td>False</td>\n",
       "      <td>7</td>\n",
       "      <td>14</td>\n",
       "      <td>15</td>\n",
       "      <td>9</td>\n",
       "      <td>6</td>\n",
       "      <td>0</td>\n",
       "      <td>0</td>\n",
       "      <td>8</td>\n",
       "      <td>0</td>\n",
       "      <td>...</td>\n",
       "      <td>11</td>\n",
       "      <td>4</td>\n",
       "      <td>0</td>\n",
       "      <td>2</td>\n",
       "      <td>14</td>\n",
       "      <td>0</td>\n",
       "      <td>17</td>\n",
       "      <td>0</td>\n",
       "      <td>2</td>\n",
       "      <td>3</td>\n",
       "    </tr>\n",
       "    <tr>\n",
       "      <th>4</th>\n",
       "      <td>True</td>\n",
       "      <td>23</td>\n",
       "      <td>22</td>\n",
       "      <td>28</td>\n",
       "      <td>4</td>\n",
       "      <td>10</td>\n",
       "      <td>0</td>\n",
       "      <td>0</td>\n",
       "      <td>7</td>\n",
       "      <td>2</td>\n",
       "      <td>...</td>\n",
       "      <td>21</td>\n",
       "      <td>5</td>\n",
       "      <td>0</td>\n",
       "      <td>2</td>\n",
       "      <td>22</td>\n",
       "      <td>0</td>\n",
       "      <td>31</td>\n",
       "      <td>0</td>\n",
       "      <td>8</td>\n",
       "      <td>2</td>\n",
       "    </tr>\n",
       "  </tbody>\n",
       "</table>\n",
       "<p>5 rows × 112 columns</p>\n",
       "</div>"
      ],
      "text/plain": [
       "   sentiment_positive  ADJ  ADP  PUNCT  ADV  AUX  SYM  INTJ  CCONJ  X  ...  \\\n",
       "0                True   32   37     44   11   27    0     0     12  0  ...   \n",
       "1                True   14   15     24   18    7    0     0      9  7  ...   \n",
       "2                True   18   17     25    7   17    0     0      7  0  ...   \n",
       "3               False    7   14     15    9    6    0     0      8  0  ...   \n",
       "4                True   23   22     28    4   10    0     0      7  2  ...   \n",
       "\n",
       "   pobj  poss  preconj  predet  prep  prt  punct  quantmod  relcl  xcomp  \n",
       "0    31     3        0       1    32    3     45         0      5      1  \n",
       "1    14     6        2       2    14    0     26         0      1      0  \n",
       "2    16     3        0       0    16    1     25         0      3      1  \n",
       "3    11     4        0       2    14    0     17         0      2      3  \n",
       "4    21     5        0       2    22    0     31         0      8      2  \n",
       "\n",
       "[5 rows x 112 columns]"
      ]
     },
     "execution_count": 15,
     "metadata": {},
     "output_type": "execute_result"
    }
   ],
   "source": [
    "quant_data = linguistic_features(imdb, 'review', nlp_engine) # Takes about a 1 minute for 500 rows\n",
    "quant_data = quant_data.drop(columns=['review'])\n",
    "quant_data.head()"
   ]
  },
  {
   "cell_type": "code",
   "execution_count": 16,
   "metadata": {},
   "outputs": [],
   "source": [
    "from sklearn.ensemble import RandomForestClassifier\n",
    "from sklearn.model_selection import train_test_split\n",
    "\n",
    "random_forest = RandomForestClassifier()\n",
    "train, test = train_test_split(quant_data, test_size=0.25, random_state=0)\n",
    "\n",
    "X_train, y_train = train.drop(columns=['sentiment_positive']), train['sentiment_positive']\n",
    "X_test, y_true = test.drop(columns=['sentiment_positive']), test['sentiment_positive']\n",
    "\n",
    "random_forest.fit(X_train, y_train)\n",
    "y_pred = random_forest.predict(X_test)"
   ]
  },
  {
   "cell_type": "code",
   "execution_count": 17,
   "metadata": {},
   "outputs": [
    {
     "name": "stdout",
     "output_type": "stream",
     "text": [
      "{'False': {'f1-score': 0.6616541353383458,\n",
      "           'precision': 0.676923076923077,\n",
      "           'recall': 0.6470588235294118,\n",
      "           'support': 68.0},\n",
      " 'True': {'f1-score': 0.6153846153846154,\n",
      "          'precision': 0.6,\n",
      "          'recall': 0.631578947368421,\n",
      "          'support': 57.0},\n",
      " 'accuracy': 0.64,\n",
      " 'macro avg': {'f1-score': 0.6385193753614806,\n",
      "               'precision': 0.6384615384615384,\n",
      "               'recall': 0.6393188854489165,\n",
      "               'support': 125.0},\n",
      " 'weighted avg': {'f1-score': 0.6405552342394447,\n",
      "                  'precision': 0.6418461538461538,\n",
      "                  'recall': 0.64,\n",
      "                  'support': 125.0}}\n"
     ]
    },
    {
     "data": {
      "image/png": "[encoded data removed]",
      "text/plain": [
       "<Figure size 640x480 with 2 Axes>"
      ]
     },
     "metadata": {},
     "output_type": "display_data"
    },
    {
     "data": {
      "image/png": "[encoded data removed]",
      "text/plain": [
       "<Figure size 640x480 with 1 Axes>"
      ]
     },
     "metadata": {},
     "output_type": "display_data"
    },
    {
     "data": {
      "image/png": "[encoded data removed]",
      "text/plain": [
       "<Figure size 640x480 with 1 Axes>"
      ]
     },
     "metadata": {},
     "output_type": "display_data"
    }
   ],
   "source": [
    "from sklearn.metrics import ConfusionMatrixDisplay\n",
    "from sklearn.metrics import PrecisionRecallDisplay\n",
    "from sklearn.metrics import RocCurveDisplay\n",
    "from sklearn.metrics import classification_report\n",
    "import pprint\n",
    "\n",
    "report_dict = classification_report(y_true=y_true, y_pred=y_pred, output_dict=True)\n",
    "pprint.pprint(report_dict)\n",
    "confusion_matrix = ConfusionMatrixDisplay.from_predictions(y_true=y_true, y_pred=y_pred, cmap='Blues')\n",
    "precision_recall = PrecisionRecallDisplay.from_predictions(y_true=y_true, y_pred=y_pred)\n",
    "roc_curve = RocCurveDisplay.from_predictions(y_true=y_true, y_pred=y_pred)"
   ]
  },
  {
   "cell_type": "markdown",
   "metadata": {},
   "source": [
    "## [SetFit](https://github.com/huggingface/setfit)\n",
    "> SetFit is a fast and efficient text classifier that uses contrastive learning and sentence-transformer embeddings to achieve high-accuracy with only a few training examples. \n",
    "\n",
    "*Contrastive Learning & Fine-Tuning*\n",
    "> The contrastive learning component functions by taking the training examples and building sentence pairs that create a mapping of associated sentences based on the assigned label. By creating these sentence pairs we are also generating a larger training set that gives SetFit more to work with. Using these sentences we can fine-tune the sentence-transformer embeddings to conform to our dataset by using he Euclidean Distance is gauged in the embedding space to keep similar sentences together and dissimilar sentences apart.\n",
    "\n",
    "*When Should I Use SetFit?*\n",
    "> Use SetFit when you lack sufficient annotations for any larger transfomer-based model (~1000 or less)\n"
   ]
  },
  {
   "cell_type": "code",
   "execution_count": 34,
   "metadata": {},
   "outputs": [],
   "source": [
    "from setfit import SetFitModel, TrainingArguments, sample_dataset\n",
    "from setfit import Trainer as SetFitTrainer\n",
    "from datasets import Dataset"
   ]
  },
  {
   "cell_type": "code",
   "execution_count": 19,
   "metadata": {},
   "outputs": [],
   "source": [
    "# Importing IMDB again\n",
    "imdb = pd.read_csv(\"data/IMDB Dataset.csv\", nrows=5000,)\n",
    "imdb.head()\n",
    "\n",
    "# Prepare Training Segments\n",
    "train, dev = train_test_split(imdb, test_size=0.2, random_state=0)\n",
    "evaluation, test = train_test_split(dev, test_size=0.5, random_state=0)\n",
    "train.reset_index(inplace=True, drop=True)\n",
    "evaluation.reset_index(inplace=True, drop=True)\n",
    "test.reset_index(inplace=True, drop=True)\n",
    "\n",
    "# Simulate the few-shot regime by sampling examples per class\n",
    "NUM_SAMPLES = 4\n",
    "train_dataset = sample_dataset(Dataset.from_pandas(train, preserve_index=False), label_column=\"sentiment\", num_samples=NUM_SAMPLES)\n",
    "eval_dataset = Dataset.from_pandas(evaluation, preserve_index=False)\n",
    "test_dataset = Dataset.from_pandas(test, preserve_index=False)"
   ]
  },
  {
   "cell_type": "code",
   "execution_count": 20,
   "metadata": {},
   "outputs": [
    {
     "name": "stderr",
     "output_type": "stream",
     "text": [
      "model_head.pkl not found on HuggingFace Hub, initialising classification head with random weights. You should TRAIN this model on a downstream task to use it for predictions and inference.\n",
      "Applying column mapping to the training dataset\n",
      "Applying column mapping to the evaluation dataset\n"
     ]
    },
    {
     "data": {
      "application/vnd.jupyter.widget-view+json": {
       "model_id": "254f215bc4104533a8f22a1e3e905034",
       "version_major": 2,
       "version_minor": 0
      },
      "text/plain": [
       "Map:   0%|          | 0/8 [00:00<?, ? examples/s]"
      ]
     },
     "metadata": {},
     "output_type": "display_data"
    }
   ],
   "source": [
    "# Load a SetFit model from Hub\n",
    "model = SetFitModel.from_pretrained(\n",
    "    \"sentence-transformers/paraphrase-mpnet-base-v2\",\n",
    "    labels=[\"negative\", \"positive\"],\n",
    "    device=device,\n",
    ")\n",
    "\n",
    "args = TrainingArguments(\n",
    "    batch_size=16,\n",
    "    num_epochs=1,\n",
    "    eval_strategy=\"epoch\",\n",
    "    save_strategy=\"epoch\",\n",
    "    load_best_model_at_end=True,\n",
    ")\n",
    "\n",
    "trainer = SetFitTrainer(\n",
    "    model=model,\n",
    "    args=args,\n",
    "    train_dataset=train_dataset,\n",
    "    eval_dataset=eval_dataset,\n",
    "    metric=\"accuracy\",\n",
    "    column_mapping={\"review\": \"text\", \"sentiment\": \"label\"}  # Map dataset columns to text/label expected by trainer\n",
    ")"
   ]
  },
  {
   "cell_type": "code",
   "execution_count": 21,
   "metadata": {},
   "outputs": [],
   "source": [
    "import joblib\n",
    "import os\n",
    "\n",
    "# Train and Evaluate\n",
    "# trainer.train()\n",
    "# metrics = trainer.evaluate(test_dataset)\n",
    "# print(metrics)\n",
    "# joblib.dump(trainer.model, \"pickles/setfit.pkl\")"
   ]
  },
  {
   "cell_type": "code",
   "execution_count": 22,
   "metadata": {},
   "outputs": [],
   "source": [
    "# # Run inference\n",
    "# preds = trainer.model.predict([\n",
    "#     \"i loved the spiderman movie!\",\n",
    "#     \"paranormal activity is such a terrible movie...\",\n",
    "# ])\n",
    "# print(preds)"
   ]
  },
  {
   "cell_type": "markdown",
   "metadata": {},
   "source": [
    "## [BERT](https://huggingface.co/docs/transformers/model_doc/bert)\n",
    "> BERT (or Bidirectional Encoder Representations from Transformers), is a deep learning neural network that uses\n",
    "\n",
    "*Transformers*\n",
    "> Transformers are neural network structures that have three essential properties: position, attention, & self-attention. Positional Encoding is simply the position index for a token. Attention allows a token to observe the surrounding tokens in the sentence to make a better output decision. Self-Attention contextualizes the meaning of a given token by observing the other tokens in the text and it's own use-cases (e.g. \"The train passed by\" vs \"I want to train for a marathon\").\n",
    "\n",
    "*When Should I Use BERT?*\n",
    "> When you have sufficient data (at least 1000 but preferably much more) and enough computing resources (GPU with sufficient memory)"
   ]
  },
  {
   "cell_type": "code",
   "execution_count": 23,
   "metadata": {},
   "outputs": [],
   "source": [
    "from processing.bert_processing import BERTDataBuilder, BERTDataset, TrainingBERT\n",
    "import yaml"
   ]
  },
  {
   "cell_type": "code",
   "execution_count": 24,
   "metadata": {},
   "outputs": [],
   "source": [
    "def config_reader(stream: str):\n",
    "    with open(stream, 'r') as f:\n",
    "        config = yaml.safe_load(f)\n",
    "    return config\n",
    "\n",
    "config = config_reader(\"yaml/notebook.yaml\")"
   ]
  },
  {
   "cell_type": "code",
   "execution_count": 25,
   "metadata": {},
   "outputs": [],
   "source": [
    "train['sentiment'] = train['sentiment'].apply(lambda x: 1 if x == \"positive\" else 0)\n",
    "evaluation['sentiment'] = evaluation['sentiment'].apply(lambda x: 1 if x == \"positive\" else 0)\n",
    "test['sentiment'] = test['sentiment'].apply(lambda x: 1 if x == \"positive\" else 0)"
   ]
  },
  {
   "cell_type": "code",
   "execution_count": 26,
   "metadata": {},
   "outputs": [
    {
     "name": "stdout",
     "output_type": "stream",
     "text": [
      "Building Datasets...\n",
      "---Training Dataset...\n",
      "---Validation Dataset...\n",
      "---Test Dataset...\n"
     ]
    }
   ],
   "source": [
    "# Data Preparation\n",
    "datasets = {\n",
    "    'train_dataframe':train,\n",
    "    'eval_dataframe':evaluation,\n",
    "    'test_dataframe':test\n",
    "}\n",
    "data = BERTDataBuilder(datasets=datasets, model_name=\"bert-base-uncased\", text_column='review', label_column='sentiment')\n",
    "data.build_data()"
   ]
  },
  {
   "cell_type": "code",
   "execution_count": 27,
   "metadata": {},
   "outputs": [],
   "source": [
    "import warnings\n",
    "# Load Trainer\n",
    "# bert = TrainingBERT(data, config['train_args'])\n",
    "\n",
    "# Training\n",
    "# bert.Training()\n",
    "\n",
    "# Evaluation\n",
    "# warnings.filterwarnings(\"ignore\", category=DeprecationWarning) \n",
    "# visuals = bert.Testing()"
   ]
  },
  {
   "cell_type": "code",
   "execution_count": 28,
   "metadata": {},
   "outputs": [
    {
     "data": {
      "image/png": "[encoded data removed]",
      "text/plain": [
       "<IPython.core.display.Image object>"
      ]
     },
     "metadata": {},
     "output_type": "display_data"
    },
    {
     "data": {
      "image/png": "[encoded data removed]",
      "text/plain": [
       "<IPython.core.display.Image object>"
      ]
     },
     "metadata": {},
     "output_type": "display_data"
    },
    {
     "data": {
      "image/png": "[encoded data removed]",
      "text/plain": [
       "<IPython.core.display.Image object>"
      ]
     },
     "metadata": {},
     "output_type": "display_data"
    }
   ],
   "source": [
    "from IPython.display import Image, display\n",
    "# Results & Visuals\n",
    "display(Image(filename=\"bert_visuals/confusion_matrix.png\"))\n",
    "display(Image(filename=\"bert_visuals/precision_recall.png\"))\n",
    "display(Image(filename=\"bert_visuals/auc.png\"))"
   ]
  },
  {
   "cell_type": "markdown",
   "metadata": {},
   "source": [
    "## LLMs & Generation Constraints (w/ Langchain)\n",
    "\n",
    "*Why Do We Need Generation Constraints*\n",
    "> When you want to ensure the format of an output you may need to put \"guard-rails\" on how the LLM returns its responses. Constraints allow you to better curate the types of responses you receive based on your inputs."
   ]
  },
  {
   "cell_type": "code",
   "execution_count": 38,
   "metadata": {},
   "outputs": [],
   "source": [
    "from processing.llm_classification import LangchainLLM\n",
    "from dotenv import load_dotenv\n",
    "\n",
    "load_dotenv()\n",
    "HUGGINGFACEHUB_API_TOKEN = os.environ['HF_API_TOKEN']\n",
    "REPO_ID = os.environ['REPO_ID']\n",
    "\n",
    "llm = LangchainLLM(repo_id=REPO_ID, hf_api_token=HUGGINGFACEHUB_API_TOKEN)"
   ]
  },
  {
   "cell_type": "code",
   "execution_count": 39,
   "metadata": {},
   "outputs": [
    {
     "name": "stdout",
     "output_type": "stream",
     "text": [
      ">> Example: One of the other reviewers has mentioned that after watching just 1 Oz episode you'll be hooked. They are right, as this is exactly what happened with me.<br /><br />The first thing that struck me about Oz was its brutality and unflinching scenes of violence, which set in right from the word GO. Trust me, this is not a show for the faint hearted or timid. This show pulls no punches with regards to drugs, sex or violence. Its is hardcore, in the classic use of the word.<br /><br />It is called OZ as that is the nickname given to the Oswald Maximum Security State Penitentary. It focuses mainly on Emerald City, an experimental section of the prison where all the cells have glass fronts and face inwards, so privacy is not high on the agenda. Em City is home to many..Aryans, Muslims, gangstas, Latinos, Christians, Italians, Irish and more....so scuffles, death stares, dodgy dealings and shady agreements are never far away.<br /><br />I would say the main appeal of the show is due to the fact that it goes where other shows wouldn't dare. Forget pretty pictures painted for mainstream audiences, forget charm, forget romance...OZ doesn't mess around. The first episode I ever saw struck me as so nasty it was surreal, I couldn't say I was ready for it, but as I watched more, I developed a taste for Oz, and got accustomed to the high levels of graphic violence. Not just violence, but injustice (crooked guards who'll be sold out for a nickel, inmates who'll kill on order and get away with it, well mannered, middle class inmates being turned into prison bitches due to their lack of street skills or prison experience) Watching Oz, you may become comfortable with what is uncomfortable viewing....thats if you can get in touch with your darker side.\n",
      ">> Expected Result: True\n",
      ">> Response Received: True\n"
     ]
    }
   ],
   "source": [
    "import warnings\n",
    "warnings.filterwarnings(\"ignore\", category=FutureWarning)\n",
    "\n",
    "\n",
    "example = imdb.iloc[0].review\n",
    "expected = True if imdb.iloc[0].sentiment == 'positive' else False\n",
    "\n",
    "response = llm.get_response(example)\n",
    "\n",
    "print(f\">> Example: {example}\\n>> Expected Result: {expected}\")\n",
    "print(f\">> Response Received: {response.review_sentiment[0]}\")"
   ]
  },
  {
   "cell_type": "markdown",
   "metadata": {},
   "source": [
    "# Literal Eval\n",
    "\n",
    "> The ast module (abstract syntax trees) has a tool called literal_eval that can transform strings containing python objects and makes them interpretable by the script. It can handle strings, bytes, numbers, tuples, lists, dicts, sets, booleans, None, and Ellipsis.\n",
    "\n",
    "*Why is this useful?*\n",
    "> In the case where your LLM refuses to completely conform to your suggested output format, you may be able to take the pythonic strings it returns and use literal_eval to correct the output into the format you need."
   ]
  },
  {
   "cell_type": "code",
   "execution_count": 31,
   "metadata": {},
   "outputs": [
    {
     "name": "stdout",
     "output_type": "stream",
     "text": [
      "Content: {'review': [True]}\n",
      "Datatype: <class 'dict'>\n"
     ]
    }
   ],
   "source": [
    "from ast import literal_eval\n",
    "\n",
    "# Tips and Tricks\n",
    "trapped_dictionary = \"{'review': [True]}\"\n",
    "iamfree = literal_eval(trapped_dictionary)\n",
    "print(f\"Content: {iamfree}\\nDatatype: {type(iamfree)}\")"
   ]
  },
  {
   "cell_type": "code",
   "execution_count": 32,
   "metadata": {},
   "outputs": [
    {
     "name": "stdout",
     "output_type": "stream",
     "text": [
      "Content: True\n",
      "Datatype: <class 'bool'> \n",
      "\n",
      "Content: ['Hello', 'World!']\n",
      "Datatype: <class 'list'>\n"
     ]
    }
   ],
   "source": [
    "boolean_example = 'True'\n",
    "list_example = \"['Hello', 'World!']\"\n",
    "\n",
    "print(f\"Content: {boolean_example}\\nDatatype: {type(literal_eval(boolean_example))}\",\"\\n\")\n",
    "print(f\"Content: {list_example}\\nDatatype: {type(literal_eval(list_example))}\")"
   ]
  },
  {
   "cell_type": "code",
   "execution_count": 33,
   "metadata": {},
   "outputs": [
    {
     "name": "stdout",
     "output_type": "stream",
     "text": [
      "Highest Level: <class 'list'>\n",
      "Entry Level: <class 'dict'>\n",
      "Dictionary Level: <class 'list'>\n",
      "Value Level: <class 'bool'>\n"
     ]
    }
   ],
   "source": [
    "trapped_responses = \"[{'review': [True]}, {'review': [False]}, {'review': [True]}]\"\n",
    "\n",
    "freed_responses = literal_eval(trapped_responses)\n",
    "print(f\"Highest Level: {type(freed_responses)}\")\n",
    "print(f\"Entry Level: {type(freed_responses[0])}\")\n",
    "print(f\"Dictionary Level: {type(freed_responses[0]['review'])}\")\n",
    "print(f\"Value Level: {type(freed_responses[0]['review'][0])}\")"
   ]
  }
 ],
 "metadata": {
  "kernelspec": {
   "display_name": "vip_class",
   "language": "python",
   "name": "python3"
  },
  "language_info": {
   "codemirror_mode": {
    "name": "ipython",
    "version": 3
   },
   "file_extension": ".py",
   "mimetype": "text/x-python",
   "name": "python",
   "nbconvert_exporter": "python",
   "pygments_lexer": "ipython3",
   "version": "3.11.11"
  }
 },
 "nbformat": 4,
 "nbformat_minor": 2
}
